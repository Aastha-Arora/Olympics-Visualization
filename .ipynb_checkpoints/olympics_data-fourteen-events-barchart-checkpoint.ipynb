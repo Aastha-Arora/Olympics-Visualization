{
 "cells": [
  {
   "cell_type": "code",
   "execution_count": 1,
   "metadata": {},
   "outputs": [],
   "source": [
    "import pandas as pd\n",
    "import json"
   ]
  },
  {
   "cell_type": "markdown",
   "metadata": {},
   "source": [
    "## Load"
   ]
  },
  {
   "cell_type": "code",
   "execution_count": 2,
   "metadata": {
    "scrolled": true
   },
   "outputs": [],
   "source": [
    "\n",
    "# Load data\n",
    "sports_df = pd.read_csv('olympics_data.csv')\n",
    "# sports_df.head()"
   ]
  },
  {
   "cell_type": "markdown",
   "metadata": {},
   "source": [
    "# Clean"
   ]
  },
  {
   "cell_type": "code",
   "execution_count": 3,
   "metadata": {},
   "outputs": [],
   "source": [
    "# # Checking to see count of datapoints\n",
    "# sports_df.count()"
   ]
  },
  {
   "cell_type": "code",
   "execution_count": 4,
   "metadata": {},
   "outputs": [],
   "source": [
    "# Dropping NaN\n",
    "sports_df = sports_df.dropna(how='any')\n",
    "# sports_df.count()"
   ]
  },
  {
   "cell_type": "markdown",
   "metadata": {},
   "source": [
    "## Female Sports"
   ]
  },
  {
   "cell_type": "markdown",
   "metadata": {},
   "source": [
    "### Gold"
   ]
  },
  {
   "cell_type": "code",
   "execution_count": 5,
   "metadata": {},
   "outputs": [],
   "source": [
    "# Filtering for FEMALE and Medal (GOLD)\n",
    "female_sports_df = sports_df.loc[(sports_df['Sex'] =='F') & (sports_df['Medal'] =='Gold') , :]\n",
    "# female_sports_df.head()\n"
   ]
  },
  {
   "cell_type": "code",
   "execution_count": 6,
   "metadata": {},
   "outputs": [],
   "source": [
    "# # Filter for only: Basketball, , Boxing, , Cycling, Figure Skating, Gymnastics, Judo, Rowing, Snowboarding,  \n",
    "# Speed Skating, Swimming,  Tennis, Volleyball,  Weightlifting, Wrestling\n",
    "\n",
    "female_sports_df = female_sports_df[(female_sports_df.Sport != \"Alpine Skiing\") & \n",
    "                                    (female_sports_df.Sport != \"Athletics\") &\n",
    "                                    (female_sports_df.Sport != \"Badminton\") &\n",
    "                                    (female_sports_df.Sport != \"Biathlon\") &\n",
    "                                    (female_sports_df.Sport != \"Bobsleigh\") &\n",
    "                                    (female_sports_df.Sport != \"Cross Country Skiing\") &\n",
    "                                    (female_sports_df.Sport != \"Curling\") &\n",
    "                                    (female_sports_df.Sport != \"Equestrianism\") &\n",
    "                                    (female_sports_df.Sport != \"Fencing\") &\n",
    "                                    (female_sports_df.Sport != \"Football\") &\n",
    "                                    (female_sports_df.Sport != \"Freestyle Skiing\") &\n",
    "                                    (female_sports_df.Sport != \"Golf\") &\n",
    "                                    (female_sports_df.Sport != \"Handball\") &\n",
    "                                    (female_sports_df.Sport != \"Hockey\") &\n",
    "                                    (female_sports_df.Sport != \"Ice Hockey\") &\n",
    "                                    (female_sports_df.Sport != \"Luge\") &\n",
    "                                    (female_sports_df.Sport != \"Modern Pentathlon\") &\n",
    "                                    (female_sports_df.Sport != \"Rhythmic Gymnastics\") &\n",
    "                                    (female_sports_df.Sport != \"Rugby Sevens\") &\n",
    "                                    (female_sports_df.Sport != \"Sailing\") &\n",
    "                                    (female_sports_df.Sport != \"Short Track Speed Skating\") &\n",
    "                                    (female_sports_df.Sport != \"Skeleton\") &\n",
    "                                    (female_sports_df.Sport != \"Ski Jumping\") &\n",
    "                                    (female_sports_df.Sport != \"Synchronized Swimming\") &\n",
    "                                    (female_sports_df.Sport != \"Table Tennis\") &\n",
    "                                    (female_sports_df.Sport != \"Trampolining\") &\n",
    "                                    (female_sports_df.Sport != \"Triathlon\") &\n",
    "                                    (female_sports_df.Sport != \"Art Competitions\") &\n",
    "                                    (female_sports_df.Sport != \"Lacrosse\") &\n",
    "                                    (female_sports_df.Sport != \"Nordic Combined\") &\n",
    "                                    (female_sports_df.Sport != \"Rugby\") &\n",
    "                                    (female_sports_df.Sport != \"Trampolining\") &\n",
    "                                    (female_sports_df.Sport != \"Tug-Of-War\") &\n",
    "                                    (female_sports_df.Sport != \"Water Polo\") &\n",
    "                                (female_sports_df.Sport != \"Shooting\") &\n",
    "                                (female_sports_df.Sport != \"Diving\") &\n",
    "                                (female_sports_df.Sport != \"Beach Volleyball\") &\n",
    "                                (female_sports_df.Sport != \"Softball\") &\n",
    "                                (female_sports_df.Sport != \"Baseball\") &\n",
    "                                (female_sports_df.Sport != \"Taekwondo\") &\n",
    "                                (female_sports_df.Sport != \"Canoeing\") &\n",
    "                               (female_sports_df.Sport != \"Archery\") ]\n",
    "\n",
    "# female_sports_df.head()\n"
   ]
  },
  {
   "cell_type": "code",
   "execution_count": 7,
   "metadata": {},
   "outputs": [],
   "source": [
    "# Finding Age, Height, Weight Median\n",
    "\n",
    "events_gold_female_sports_df = female_sports_df.groupby(['Event'])\n",
    "\n",
    "# Find median for Age, Height, Weight\n",
    "events_gold_female_sports_df = events_gold_female_sports_df.median()\n",
    "events_gold_female_sports_df = events_gold_female_sports_df[[\"Age\", \"Height\", \"Weight\"]]\n",
    "# events_gold_female_sports_df "
   ]
  },
  {
   "cell_type": "code",
   "execution_count": 8,
   "metadata": {},
   "outputs": [],
   "source": [
    "# Reset index\n",
    "events_gold_female_sports_df = events_gold_female_sports_df.reset_index(level=['Event'])\n",
    "# events_gold_female_sports_df"
   ]
  },
  {
   "cell_type": "code",
   "execution_count": 9,
   "metadata": {},
   "outputs": [],
   "source": [
    "# Finding all female sport events\n",
    "unique_f_events_df = events_gold_female_sports_df['Event']\n",
    "unique_f_events_df = pd.DataFrame(unique_f_events_df)\n",
    "\n",
    "# unique_f_events_df.Event.unique()"
   ]
  },
  {
   "cell_type": "code",
   "execution_count": 10,
   "metadata": {},
   "outputs": [],
   "source": [
    "# Get unique name of event\n",
    "event_list = events_gold_female_sports_df.Event.unique()\n",
    "\n",
    "# Create empty age, height, weight lists for storage\n",
    "gold_age_list = []\n",
    "gold_height_list = []\n",
    "gold_weight_list = []\n",
    "\n",
    "for event_name in event_list:\n",
    "    #print(event_name)\n",
    "    def event_function(event_name):\n",
    "        \n",
    "        # Filtering DataFrame for specific event name\n",
    "        df = events_gold_female_sports_df.loc[(events_gold_female_sports_df['Event'] == event_name ),:]\n",
    "\n",
    "        # Creating the Boxplot\n",
    "        age_plot = df.loc[df['Event'] == event_name]['Age']\n",
    "        height_plot = df.loc[df['Event'] == event_name]['Height']\n",
    "        weight_plot = df.loc[df['Event'] == event_name]['Weight']\n",
    "\n",
    "        # Calculate the quartiles\n",
    "        age_quartiles = age_plot.quantile([.25,.5,.75])\n",
    "        height_quartiles = height_plot.quantile([.25,.5,.75])\n",
    "        weight_quartiles = weight_plot.quantile([.25,.5,.75])\n",
    "        \n",
    "        # Creating age list\n",
    "        age = round(age_quartiles[.5])\n",
    "        gold_age_list.append(age)\n",
    "        \n",
    "        # Creating height list - converting Metric System to Imperial system\n",
    "        height = (height_quartiles[.5])/30.48\n",
    "#         gold_height_list.append(\"%.2f\"%height.astype(float))\n",
    "        gold_height_list.append(height)\n",
    "        \n",
    "        # Creating weight list - converting Metric System to Imperial system\n",
    "        weight = (weight_quartiles[.5])*2.205\n",
    "#         gold_weight_list.append(\"%.2f\"%weight)\n",
    "        gold_weight_list.append(weight)\n",
    "        \n",
    "    event_function(event_name)\n",
    "# print(f'Gold Age List: {gold_age_list}')\n",
    "# print(f'Gold Height List: {gold_height_list}')\n",
    "# print(f'Gold Weight List: {gold_weight_list}')"
   ]
  },
  {
   "cell_type": "code",
   "execution_count": 11,
   "metadata": {},
   "outputs": [],
   "source": [
    "# Prepping Dataframe into a JSON file\n",
    "# events_gold_female_sports_df = pd.DataFrame(events_gold_female_sports_df, columns= ['Sex', 'Age', 'Height', 'Weight'])\n",
    "# events_gold_female_sports_df.to_json('barplot_events_female_bodycomp_age.json', orient='records')\n",
    "# events_gold_female_sports_df.to_json('barplot_events_female_bodycomp_age.json', orient='index')\n"
   ]
  },
  {
   "cell_type": "markdown",
   "metadata": {},
   "source": [
    "## Male Sports"
   ]
  },
  {
   "cell_type": "markdown",
   "metadata": {},
   "source": [
    "### Gold"
   ]
  },
  {
   "cell_type": "code",
   "execution_count": 12,
   "metadata": {},
   "outputs": [],
   "source": [
    "# Filtering for MALE and Medal (GOLD)\n",
    "\n",
    "male_sports_df = sports_df.loc[(sports_df['Sex'] =='M') & (sports_df['Medal'] =='Gold') , :]\n",
    "# male_sports_df.head()"
   ]
  },
  {
   "cell_type": "code",
   "execution_count": 13,
   "metadata": {},
   "outputs": [],
   "source": [
    "# Filter for only: Basketball, , Boxing, , Cycling, Figure Skating, Gymnastics, Judo, Rowing, Snowboarding,  \n",
    "# Speed Skating, Swimming,  Tennis, Volleyball,  Weightlifting, Wrestling\n",
    "\n",
    "male_sports_df = male_sports_df[(male_sports_df.Sport != \"Alpine Skiing\") & \n",
    "                                    (male_sports_df.Sport != \"Athletics\") &\n",
    "                                    (male_sports_df.Sport != \"Badminton\") &\n",
    "                                    (male_sports_df.Sport != \"Biathlon\") &\n",
    "                                    (male_sports_df.Sport != \"Bobsleigh\") &\n",
    "                                    (male_sports_df.Sport != \"Cross Country Skiing\") &\n",
    "                                    (male_sports_df.Sport != \"Curling\") &\n",
    "                                    (male_sports_df.Sport != \"Equestrianism\") &\n",
    "                                    (male_sports_df.Sport != \"Fencing\") &\n",
    "                                    (male_sports_df.Sport != \"Football\") &\n",
    "                                    (male_sports_df.Sport != \"Freestyle Skiing\") &\n",
    "                                    (male_sports_df.Sport != \"Golf\") &\n",
    "                                    (male_sports_df.Sport != \"Handball\") &\n",
    "                                    (male_sports_df.Sport != \"Hockey\") &\n",
    "                                    (male_sports_df.Sport != \"Ice Hockey\") &\n",
    "                                    (male_sports_df.Sport != \"Luge\") &\n",
    "                                    (male_sports_df.Sport != \"Modern Pentathlon\") &\n",
    "                                    (male_sports_df.Sport != \"Rhythmic Gymnastics\") &\n",
    "                                    (male_sports_df.Sport != \"Rugby Sevens\") &\n",
    "                                    (male_sports_df.Sport != \"Sailing\") &\n",
    "                                    (male_sports_df.Sport != \"Short Track Speed Skating\") &\n",
    "                                    (male_sports_df.Sport != \"Skeleton\") &\n",
    "                                    (male_sports_df.Sport != \"Ski Jumping\") &\n",
    "                                    (male_sports_df.Sport != \"Synchronized Swimming\") &\n",
    "                                    (male_sports_df.Sport != \"Table Tennis\") &\n",
    "                                    (male_sports_df.Sport != \"Trampolining\") &\n",
    "                                    (male_sports_df.Sport != \"Triathlon\") &\n",
    "                                    (male_sports_df.Sport != \"Art Competitions\") &\n",
    "                                    (male_sports_df.Sport != \"Lacrosse\") &\n",
    "                                    (male_sports_df.Sport != \"Nordic Combined\") &\n",
    "                                    (male_sports_df.Sport != \"Rugby\") &\n",
    "                                    (male_sports_df.Sport != \"Trampolining\") &\n",
    "                                    (male_sports_df.Sport != \"Tug-Of-War\") &\n",
    "                                    (male_sports_df.Sport != \"Water Polo\") &\n",
    "                                (male_sports_df.Sport != \"Shooting\") &\n",
    "                                (male_sports_df.Sport != \"Diving\") &\n",
    "                                (male_sports_df.Sport != \"Beach Volleyball\") &\n",
    "                                (male_sports_df.Sport != \"Softball\") &\n",
    "                                (male_sports_df.Sport != \"Baseball\") &\n",
    "                                (male_sports_df.Sport != \"Taekwondo\") &\n",
    "                                (male_sports_df.Sport != \"Canoeing\") &\n",
    "                               (male_sports_df.Sport != \"Archery\") ]\n",
    "\n",
    "# male_sports_df.head()\n"
   ]
  },
  {
   "cell_type": "code",
   "execution_count": 14,
   "metadata": {},
   "outputs": [],
   "source": [
    "# Finding Age, Height, Weight Median\n",
    "\n",
    "events_gold_male_sports_df = male_sports_df.groupby(['Event'])\n",
    "\n",
    "# Find median for Age, Height, Weight\n",
    "events_gold_male_sports_df = events_gold_male_sports_df.median()\n",
    "events_gold_male_sports_df = events_gold_male_sports_df[[\"Age\", \"Height\", \"Weight\"]]\n",
    "# events_gold_male_sports_df "
   ]
  },
  {
   "cell_type": "code",
   "execution_count": 15,
   "metadata": {},
   "outputs": [],
   "source": [
    "# Reset index\n",
    "events_gold_male_sports_df = events_gold_male_sports_df.reset_index(level=['Event'])\n",
    "# events_gold_male_sports_df"
   ]
  },
  {
   "cell_type": "code",
   "execution_count": 16,
   "metadata": {},
   "outputs": [],
   "source": [
    "# Finding all female sport events\n",
    "unique_f_events_df = events_gold_male_sports_df['Event']\n",
    "unique_f_events_df = pd.DataFrame(unique_f_events_df)\n",
    "\n",
    "# unique_f_events_df.Event.unique()"
   ]
  },
  {
   "cell_type": "code",
   "execution_count": 17,
   "metadata": {},
   "outputs": [],
   "source": [
    "# Get unique name of event\n",
    "event_list = events_gold_male_sports_df.Event.unique()\n",
    "\n",
    "# Create empty age, height, weight lists for storage\n",
    "gold_age_list = []\n",
    "gold_height_list = []\n",
    "gold_weight_list = []\n",
    "\n",
    "for event_name in event_list:\n",
    "    #print(event_name)\n",
    "    def event_function(event_name):\n",
    "        \n",
    "        # Filtering DataFrame for specific event name\n",
    "        df = events_gold_male_sports_df.loc[(events_gold_male_sports_df['Event'] == event_name ),:]\n",
    "\n",
    "        # Creating the Boxplot\n",
    "        age_plot = df.loc[df['Event'] == event_name]['Age']\n",
    "        height_plot = df.loc[df['Event'] == event_name]['Height']\n",
    "        weight_plot = df.loc[df['Event'] == event_name]['Weight']\n",
    "\n",
    "        # Calculate the quartiles\n",
    "        age_quartiles = age_plot.quantile([.25,.5,.75])\n",
    "        height_quartiles = height_plot.quantile([.25,.5,.75])\n",
    "        weight_quartiles = weight_plot.quantile([.25,.5,.75])\n",
    "        \n",
    "        # Creating age list\n",
    "        age = round(age_quartiles[.5])\n",
    "        gold_age_list.append(age)\n",
    "        \n",
    "        # Creating height list - converting Metric System to Imperial system\n",
    "        height = (height_quartiles[.5])/30.48\n",
    "#         gold_height_list.append(\"%.2f\"%height.astype(float))\n",
    "        gold_height_list.append(height)\n",
    "        \n",
    "        # Creating weight list - converting Metric System to Imperial system\n",
    "        weight = (weight_quartiles[.5])*2.205\n",
    "#         gold_weight_list.append(\"%.2f\"%weight)\n",
    "        gold_weight_list.append(weight)\n",
    "        \n",
    "    event_function(event_name)\n",
    "# print(f'Gold Age List: {gold_age_list}')\n",
    "# print(f'Gold Height List: {gold_height_list}')\n",
    "# print(f'Gold Weight List: {gold_weight_list}')"
   ]
  },
  {
   "cell_type": "code",
   "execution_count": null,
   "metadata": {},
   "outputs": [],
   "source": []
  },
  {
   "cell_type": "code",
   "execution_count": 18,
   "metadata": {},
   "outputs": [],
   "source": [
    "# Finding Age, Height, Weight Median\n",
    "\n",
    "events_gold_male_sports_df = male_sports_df.groupby(['Event', 'Sex'])\n",
    "\n",
    "# Find median for Age, Height, Weight\n",
    "events_gold_male_sports_df = events_gold_male_sports_df.median()\n",
    "events_gold_male_sports_df = events_gold_male_sports_df[[\"Age\", \"Height\", \"Weight\"]]\n",
    "# events_gold_male_sports_df "
   ]
  },
  {
   "cell_type": "code",
   "execution_count": 19,
   "metadata": {},
   "outputs": [],
   "source": [
    "# Reset index\n",
    "events_gold_male_sports_df = events_gold_male_sports_df.reset_index(level=['Event', 'Sex'])\n",
    "# events_gold_male_sports_df"
   ]
  },
  {
   "cell_type": "code",
   "execution_count": 20,
   "metadata": {},
   "outputs": [],
   "source": [
    "# # Prepping Dataframe into a JSON file\n",
    "# events_gold_male_sports_df = pd.DataFrame(events_gold_male_sports_df, columns= [ 'Event', 'Sex', 'Age', 'Height', 'Weight'])\n",
    "# events_gold_male_sports_df.to_json('events_male_bodycomp_age.json', orient='records')\n",
    "\n"
   ]
  }
 ],
 "metadata": {
  "kernelspec": {
   "display_name": "Python 3",
   "language": "python",
   "name": "python3"
  },
  "language_info": {
   "codemirror_mode": {
    "name": "ipython",
    "version": 3
   },
   "file_extension": ".py",
   "mimetype": "text/x-python",
   "name": "python",
   "nbconvert_exporter": "python",
   "pygments_lexer": "ipython3",
   "version": "3.7.4"
  }
 },
 "nbformat": 4,
 "nbformat_minor": 2
}
